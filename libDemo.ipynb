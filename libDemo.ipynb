{
 "metadata": {
  "language_info": {
   "codemirror_mode": {
    "name": "ipython",
    "version": 3
   },
   "file_extension": ".py",
   "mimetype": "text/x-python",
   "name": "python",
   "nbconvert_exporter": "python",
   "pygments_lexer": "ipython3",
   "version": "3.8.1-final"
  },
  "orig_nbformat": 2,
  "kernelspec": {
   "name": "python3",
   "display_name": "Python 3.8.1 64-bit",
   "metadata": {
    "interpreter": {
     "hash": "6d27a6007783ac2d9440cb1338d2099af98318b606e11ad3a9cd87de647f8852"
    }
   }
  }
 },
 "nbformat": 4,
 "nbformat_minor": 2,
 "cells": [
  {
   "cell_type": "code",
   "execution_count": 2,
   "metadata": {},
   "outputs": [
    {
     "output_type": "execute_result",
     "data": {
      "text/plain": [
       "<FabCAD.base.Documento at 0x2361335f850>"
      ]
     },
     "metadata": {},
     "execution_count": 2
    }
   ],
   "source": [
    "FREECADPATH = 'C:/Users/Slashito/Documents/FreeCAD_0.19.24219_Win-LPv12.4.3/bin'\n",
    "\n",
    "import sys\n",
    "sys.path.append(FREECADPATH)\n",
    "\n",
    "# Macro Begin: C:\\Users\\Slashito\\AppData\\Roaming\\FreeCAD\\Macro\n",
    "import FreeCAD as App\n",
    "import FreeCAD, Sketcher\n",
    "\n",
    "import FabCAD\n",
    "\n",
    "nameProject = \"FirstSteps\"\n",
    "namePart = \"Pieza01\"\n",
    "nameBody = \"Cuerpo\"\n",
    "\n",
    "# Crear un nuevo documento en blanco\n",
    "doc = FabCAD.nuevoDocumento(nameProject)\n",
    "doc.nuevaPieza(namePart).nuevoCuerpo(nameBody).crearPlano(\"Planta\").crearPlano(\"Alzado\", soporte=\"XZ_Plane\",cuerpo = nameBody).crearPlano(\"Vista_Lateral\", \"YZ_Plane\", doc.cuerpos[nameBody])"
   ]
  },
  {
   "cell_type": "code",
   "execution_count": 3,
   "metadata": {},
   "outputs": [
    {
     "output_type": "stream",
     "name": "stdout",
     "text": [
      "Planta\nAlzado\nVista_Lateral\n"
     ]
    }
   ],
   "source": [
    "for llave, item in doc.planos.items(): print(f\"{llave}\")"
   ]
  },
  {
   "cell_type": "code",
   "execution_count": 4,
   "metadata": {},
   "outputs": [],
   "source": [
    "nuevoSketch = doc.nuevoSketch(\"sketch\", doc.cuerpos[nameBody], doc.planos[\"Planta\"])"
   ]
  },
  {
   "cell_type": "code",
   "execution_count": 5,
   "metadata": {},
   "outputs": [
    {
     "output_type": "stream",
     "name": "stdout",
     "text": [
      "1\n6\n"
     ]
    }
   ],
   "source": [
    "nuevoSketch.crearCirculo([150, 50], 15)\n",
    "\n",
    "print(nuevoSketch.contGeometria)\n",
    "\n",
    "puntos = []\n",
    "\n",
    "puntos.append([47,40])\n",
    "puntos.append([54,55])\n",
    "puntos.append([64,33])\n",
    "puntos.append([69,48])\n",
    "puntos.append([74,38])\n",
    "puntos.append([83,60])\n",
    "\n",
    "nuevoSketch.crearPolilinea(puntos)\n",
    "\n",
    "print(nuevoSketch.contGeometria)"
   ]
  },
  {
   "cell_type": "code",
   "execution_count": 6,
   "metadata": {},
   "outputs": [
    {
     "output_type": "execute_result",
     "data": {
      "text/plain": [
       "13"
      ]
     },
     "metadata": {},
     "execution_count": 6
    }
   ],
   "source": [
    "sumaX = 0\n",
    "longitudH = 20\n",
    "longitudLinea = 10\n",
    "\n",
    "#Note the use of FreeCAD original library inside the custom library wrap inside doc.base variable \n",
    "for linea in range(3):\n",
    "\tnuevoSketch.crearLinea( [ (2 + sumaX) , 2] , [(12 + sumaX), 12] )\n",
    "\tdoc.base.getObject(\"sketch\").addConstraint(Sketcher.Constraint('Distance', linea, longitudLinea)) \n",
    "\n",
    "\tif linea > 0:\n",
    "\t\tdoc.base.getObject(\"sketch\").addConstraint(Sketcher.Constraint('Parallel',  linea -1, linea)) \n",
    "\t\tdoc.base.getObject(\"sketch\").addConstraint(Sketcher.Constraint('Horizontal', linea - 1, 1, linea, 1)) \t\t\n",
    "\t\tdoc.base.getObject(\"sketch\").addConstraint(Sketcher.Constraint('DistanceX', linea - 1, 1, linea, 1, App.Units.Quantity('{} mm'.format( longitudH )))) \n",
    "\n",
    "\tsumaX =sumaX + 20\n",
    "\tlongitudLinea += 10\n",
    "\n",
    "doc.base.getObject(\"sketch\").addConstraint(Sketcher.Constraint('Angle',0,1,-1,2, App.Units.Quantity('135.000000 deg'))) \n"
   ]
  },
  {
   "cell_type": "code",
   "execution_count": null,
   "metadata": {},
   "outputs": [],
   "source": []
  }
 ]
}