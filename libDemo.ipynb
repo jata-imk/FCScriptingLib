{
 "metadata": {
  "language_info": {
   "codemirror_mode": {
    "name": "ipython",
    "version": 3
   },
   "file_extension": ".py",
   "mimetype": "text/x-python",
   "name": "python",
   "nbconvert_exporter": "python",
   "pygments_lexer": "ipython3",
   "version": "3.8.1-final"
  },
  "orig_nbformat": 2,
  "kernelspec": {
   "name": "python381jvsc74a57bd06d27a6007783ac2d9440cb1338d2099af98318b606e11ad3a9cd87de647f8852",
   "display_name": "Python 3.8.1 64-bit"
  },
  "metadata": {
   "interpreter": {
    "hash": "6d27a6007783ac2d9440cb1338d2099af98318b606e11ad3a9cd87de647f8852"
   }
  }
 },
 "nbformat": 4,
 "nbformat_minor": 2,
 "cells": [
  {
   "cell_type": "code",
   "execution_count": 1,
   "metadata": {},
   "outputs": [],
   "source": [
    "FREECADPATH = 'C:/Users/Slashito/Documents/FreeCAD_0.19.24219_Win-LPv12.4.3/bin'\n",
    "\n",
    "import sys\n",
    "sys.path.append(FREECADPATH)\n",
    "\n",
    "# Macro Begin: C:\\Users\\Slashito\\AppData\\Roaming\\FreeCAD\\Macro\n",
    "import FreeCAD as App\n",
    "import FreeCAD, Sketcher\n",
    "\n",
    "import FabCAD #Custom Library\n",
    "\n",
    "FabCAD.nuevoDocumento().nuevaPieza()\n",
    "\n",
    "nameProject = \"FirstSteps\"\n",
    "namePart = \"Pieza01\"\n",
    "nameBody = \"Cuerpo\"\n",
    "\n",
    "# Crear un nuevo documento en blanco\n",
    "doc = FabCAD.nuevoDocumento(nameProject)\n",
    "doc.nuevaPieza(namePart).nuevoCuerpo(nameBody).crearPlano(\"Planta\").crearPlano(\"Alzado\", soporte=\"XZ_Plane\", cuerpo = nameBody).crearPlano(\"Vista_Lateral\", \"YZ_Plane\", doc.cuerpos[nameBody]).nuevoSketch(\"sketch\", doc.cuerpos[nameBody], doc.planos[\"Planta\"])\n",
    "sketch = doc.seleccionarObjeto(\"sketch\")\n",
    "\n",
    "puntos = []\n",
    "puntos.append([29.739,8.8786])\n",
    "puntos.append([29.739,71.7241])\n",
    "puntos.append([117.794,71.7241])\n",
    "puntos.append([136.967,52.5509, 19.17, False])\n",
    "puntos.append([136.967,8.8786])\n",
    "puntos.append([29.739,8.8786])\n",
    "\n",
    "sketch.crearPolilinea(puntos).extrusionAditiva(\"Test\", 50, planoMedio = 1)\n",
    "\n",
    "sketch02 = doc.nuevoSketch(\"sketch02\", soporte = \"Planta\").seleccionarObjeto(\"sketch02\").crearPoligono(10,[50,50], 7).extrusionDeVaciado(\"Test02\", 50, planoMedio = 1)\n"
   ]
  },
  {
   "cell_type": "code",
   "execution_count": 2,
   "metadata": {},
   "outputs": [
    {
     "output_type": "stream",
     "name": "stdout",
     "text": [
      "Planta\nAlzado\nVista_Lateral\n"
     ]
    }
   ],
   "source": [
    "for llave, item in doc.planos.items(): print(f\"{llave}\")"
   ]
  },
  {
   "cell_type": "code",
   "execution_count": 4,
   "metadata": {},
   "outputs": [],
   "source": [
    "nuevoSketch = doc.nuevoSketch(\"sketch\", doc.cuerpos[nameBody], doc.planos[\"Planta\"])"
   ]
  },
  {
   "cell_type": "code",
   "execution_count": 5,
   "metadata": {},
   "outputs": [
    {
     "output_type": "stream",
     "name": "stdout",
     "text": [
      "1\n6\n"
     ]
    }
   ],
   "source": [
    "nuevoSketch.crearCirculo([150, 50], 15)\n",
    "\n",
    "print(nuevoSketch.contGeometria)\n",
    "\n",
    "puntos = []\n",
    "\n",
    "puntos.append([47,40])\n",
    "puntos.append([54,55])\n",
    "puntos.append([64,33])\n",
    "puntos.append([69,48])\n",
    "puntos.append([74,38])\n",
    "puntos.append([83,60])\n",
    "\n",
    "nuevoSketch.crearPolilinea(puntos)\n",
    "\n",
    "print(nuevoSketch.contGeometria)"
   ]
  },
  {
   "cell_type": "code",
   "execution_count": 6,
   "metadata": {},
   "outputs": [
    {
     "output_type": "execute_result",
     "data": {
      "text/plain": [
       "13"
      ]
     },
     "metadata": {},
     "execution_count": 6
    }
   ],
   "source": [
    "sumaX = 0\n",
    "longitudH = 20\n",
    "longitudLinea = 10\n",
    "\n",
    "#Note the use of FreeCAD original library inside the custom library wrap inside doc.base variable \n",
    "for linea in range(3):\n",
    "\tnuevoSketch.crearLinea( [ (2 + sumaX) , 2] , [(12 + sumaX), 12] )\n",
    "\tdoc.base.getObject(\"sketch\").addConstraint(Sketcher.Constraint('Distance', linea, longitudLinea)) \n",
    "\n",
    "\tif linea > 0:\n",
    "\t\tdoc.base.getObject(\"sketch\").addConstraint(Sketcher.Constraint('Parallel',  linea -1, linea)) \n",
    "\t\tdoc.base.getObject(\"sketch\").addConstraint(Sketcher.Constraint('Horizontal', linea - 1, 1, linea, 1)) \t\t\n",
    "\t\tdoc.base.getObject(\"sketch\").addConstraint(Sketcher.Constraint('DistanceX', linea - 1, 1, linea, 1, App.Units.Quantity('{} mm'.format( longitudH )))) \n",
    "\n",
    "\tsumaX =sumaX + 20\n",
    "\tlongitudLinea += 10\n",
    "\n",
    "doc.base.getObject(\"sketch\").addConstraint(Sketcher.Constraint('Angle',0,1,-1,2, App.Units.Quantity('135.000000 deg'))) \n"
   ]
  },
  {
   "source": [
    "# Crear ranuras\n",
    "## Para crear ranuras el metodo interno de la libreria FabCAD hace lo siguiente:\n",
    "\n",
    "> Primero que se han recibido los dos puntos de inicio y fin de la ranura se calcula su pendiente, esto con la finalidad de obtener los angulos de inicio y fin de los arcos, una vez que se obtiene esta pendiente se le agregan 90 grados para que los arcos sean perpendiculares a la linea recta entre los dos puntos y se colocan los dos puntos de inicio y fin de cada arco, por ultimo segun el radio indicado se coloca otro punto colineal a la linea recta entre los dos puntos y con la longitud del radio especificado, luego estos puntos se bloquean para que queden en la posicion indicada y se dibuja toda la geometria a la que posteriormente se le dará restricciones de posicion\n",
    "\n",
    "## Ejemplo:\n",
    "### Se quiere dibujar una ranura entre los puntos [2,1] y [8,5] con un radio de 2mm\n",
    "\n",
    "> Lo primero que hace el metodo es calcular m y luego los angulos:\n",
    "\n",
    "`m = (puntoFinal[1] - puntoInicial[1]) / (puntoFinal[0] - puntoInicial[0])`\n",
    "`angulos = [m+(math.pi/2), m+(math.pi/2)+math.pi]`\n",
    "\n",
    "> Con esto listo solo se dibujan los dos arcos y las dos lineas, posteriormente se les agrega las restricciones\n",
    "\n",
    "`conList = []`\n",
    "\n",
    "        conList.append(Sketcher.Constraint('Equal',contGeometria,contGeometria+1))\n",
    "        conList.append(Sketcher.Constraint('Radius',contGeometria, radio))\n",
    "        conList.append(Sketcher.Constraint('Tangent',contGeometria,1,contGeometria+2,1))\n",
    "        conList.append(Sketcher.Constraint('Tangent',contGeometria,2,contGeometria+3,1))\n",
    "        conList.append(Sketcher.Constraint('Tangent',contGeometria+1,1,contGeometria+3,2))\n",
    "        conList.append(Sketcher.Constraint('Tangent',contGeometria+1,2,contGeometria+2,2))\n",
    "\n"
   ],
   "cell_type": "markdown",
   "metadata": {}
  },
  {
   "cell_type": "code",
   "execution_count": 17,
   "metadata": {},
   "outputs": [
    {
     "output_type": "stream",
     "name": "stdout",
     "text": [
      "PuntoUno: 2.237462993461563, PuntoDos: 5.379055647051356\n"
     ]
    }
   ],
   "source": [
    "nuevoSketch.crearRanura([2,1], [8,5], 2)"
   ]
  },
  {
   "source": [
    "# Matriz Lineal\n",
    "## Para utilizar la funcion de matriz lineal se debe seguir la siguiente estructura:\n",
    "\n",
    "`s = doc.nuevoSketch(\"sketch\", cuerpo, plano)`\n",
    "\n",
    "`s.matrizLineal(elementos, colxfil, distancia, direccion = 0, pivote = None, clonar = False, acotar = False)`\n",
    "\n",
    "> Como se puede observar es una funcion que puede recibir muchos parametros, sin embargo, no siempre se tienen que usar todos, como se puede observar tambien muchos de los parametros ya estan rellenos con un valor predeterminado con los valores que mas usualmente se usan, por ejemplo la direccion (0 = Horizontal), el punto pivote (None quiere decir que se utiliza el primer punto del primer elemento) y lo mismo con clonar y acotar, por lo que los argumentos minimos serian:\n",
    "\n",
    "`s.matrizLineal(elementos, colxfil, distancia)`\n",
    "\n",
    "\n",
    "## A continuacion se muestran ejemplos de uso con la geometria de un poligono:\n",
    "`s.crearPoligono(10, [00,200] 5)`\n",
    "![Geometria Base](./img/ejemploMatrizLineal01.png \"Geometria Base\")\n",
    "\n",
    "1. ### Creacion de matriz Horizontal con relaciones de posicion respecto a la geometria original y acotaciones\n",
    "`s.matrizLineal([0,1,2,3,4,5], 5, 25, clonar = True, acotar = True)`\n",
    "![Resultado](./img/ejemploMatrizLineal02.png \"Resultado Ejemplo 01\")\n",
    "\n",
    "2. ### Creacion de matriz con 25 grados de inclinacion\n",
    "`s.matrizLineal([0,1,2,3,4,5], 5, 27.5, 25, clonar = True, acotar = True)`\n",
    "![Resultado](./img/ejemploMatrizLineal03.png \"Resultado Ejemplo 02\")\n",
    "\n",
    "3. ### Creacion de matriz de 3 filas y 3 columnas con 25 grados de inclinación y diferentes distancias entre filas y columnas\n",
    "`s.matrizLineal([0,1,2,3,4,5], [3,3], [27.5, 40], 25, clonar = True, acotar = True)`\n",
    "![Resultado](./img/ejemploMatrizLineal04.png \"Resultado Ejemplo 03\")"
   ],
   "cell_type": "markdown",
   "metadata": {}
  },
  {
   "cell_type": "code",
   "execution_count": 1,
   "metadata": {},
   "outputs": [],
   "source": [
    "puntos = []\n",
    "puntos.append([29.739,8.8786])\n",
    "puntos.append([29.739,71.7241])\n",
    "puntos.append([117.794,71.7241])\n",
    "puntos.append([136.967,52.5509, 19.17, False])\n",
    "puntos.append([136.967,8.8786])\n",
    "puntos.append([29.739,8.8786])\n",
    "\n",
    "nuevoSketch.crearPolilinea(puntos)\n",
    "\n",
    "puntos = []\n",
    "puntos.append([49.0133,7.76455])\n",
    "puntos.append([88.7014,76.3167])\n",
    "puntos.append([126.946,-15.6875])\n",
    "puntos.append([150.398,46.731])\n",
    "puntos.append([159.418,33.7422, 9.61, True])\n",
    "puntos.append([207.405,18.9494])\n",
    "puntos.append([222.919,66.5751])\n",
    "puntos.append([238.073,61.8847, 7.93, True])\n",
    "\n",
    "nuevoSketch.crearPolilinea(puntos)\n",
    "\n",
    "puntos = []\n",
    "puntos.append([47,40])\n",
    "puntos.append([54,55])\n",
    "puntos.append([64,33])\n",
    "puntos.append([69,48,10, True])\n",
    "puntos.append([74,38])\n",
    "puntos.append([83,60])\n",
    "puntos.append([1,2,3,4])\n",
    "\n",
    "nuevoSketch.crearPolilinea(puntos)\n",
    "\n",
    "#Puntos de Prueba 07/04/2021\n",
    "puntos = []\n",
    "puntos.append([50.8234,33.2904])\n",
    "puntos.append([105.665,103.646])\n",
    "puntos.append([142.828,-3.5113])\n",
    "puntos.append([177.104,74.7824])\n",
    "puntos.append([191.175,50.248, 20, True])\n",
    "puntos.append([244.213,9.83832])\n",
    "puntos.append([244.213,87.4105])\n",
    "\n",
    "nuevoSketch.crearPolilinea(puntos)"
   ]
  },
  {
   "cell_type": "code",
   "execution_count": 140,
   "metadata": {},
   "outputs": [
    {
     "output_type": "stream",
     "name": "stdout",
     "text": [
      "Angulo de la pendiente en radianes: -0.37431597999720395\nPosicion del punto final de la linea tangente: [90.17633595762312, 25.30890794194464]\n\n3.8897300677553437\n[13.699999999999998, 11.2]\n[-0.8035779784704272, 3.4552133058064913]\n"
     ]
    }
   ],
   "source": [
    "#Obtener el centro de la circunferencia dados 3 puntos\n",
    "#Util para construir el arco 3 puntos\n",
    "import math\n",
    "\n",
    "#Funcion para obtener pendiente, radianes y grados de una recta\n",
    "def datos(v1,v2):\n",
    "    try:\n",
    "        m = (v2[1]-v1[1])/(v2[0]-v1[0])\n",
    "        rad = math.atan(m)\n",
    "        deg = math.degrees(rad)\n",
    "    except:\n",
    "        m = \"Indeterminada\"\n",
    "        rad = 0\n",
    "        deg = 0\n",
    "\n",
    "    return [m, rad, deg]\n",
    "\n",
    "p1 = [10,10]\n",
    "p2 = [12.5,7.5]\n",
    "p3 = [11, 14]\n",
    "\n",
    "test01 = [199.66,65.5034]\n",
    "test02 = [220.712,57.2334]\n",
    "\n",
    "mTest, radTest, degTest = datos(test01, test02)\n",
    "radTestRoted = radTest + math.pi/2\n",
    "\n",
    "xTest = centroTest[0] + math.cos(radTestRoted)\n",
    "yTest = centroTest[1] + math.sin(radTestRoted)\n",
    "\n",
    "print(f\"Angulo de la pendiente en radianes: {radTest}\")\n",
    "print(f\"Posicion del punto final de la linea tangente: {[xTest, yTest]}\")\n",
    "\n",
    "#Estos puntos se extrajeron manualmente pero en la libreria con la funcion de crearLineaCentro se puede extraer automaticante\n",
    "centroP1P2 = [((p1[0] + p2[0])/2), ((p1[1] + p2[1])/2)]\n",
    "centroP2P3 = [((p2[0] + p3[0])/2), ((p2[1] + p3[1])/2)]\n",
    "\n",
    "#Se obtienen los datos necesarios mediante la funcion implementada en el inicio del metodo\n",
    "m12, rad12, deg12 = datos(p1,p2)\n",
    "m23, rad23, deg23 = datos(p2,p3)\n",
    "\n",
    "#Datos para la formula de intersección de dos rectas\n",
    "A = math.tan(rad12-(math.pi/2))\n",
    "B = math.tan(rad23-(math.pi/2))\n",
    "C = (-A * centroP1P2[0])  + centroP1P2[1]\n",
    "D = (-B * centroP2P3[0])  + centroP2P3[1]\n",
    "\n",
    "posCentro = [(D - C) / (A - B)]\n",
    "posCentro.append(A*posCentro[0]+(-A*centroP1P2[0] +centroP1P2[1]))\n",
    "\n",
    "#Obtención de los angulos para el arco\n",
    "angulos = [datos(posCentro, p3)[1]]\n",
    "angulos.append( math.pi + datos(posCentro, p1)[1] )\n",
    "\n",
    "radio = math.dist(posCentro, p3)\n",
    "\n",
    "print()\n",
    "print(radio)\n",
    "print(posCentro)\n",
    "print(angulos)"
   ]
  },
  {
   "cell_type": "code",
   "execution_count": null,
   "metadata": {},
   "outputs": [],
   "source": [
    "#X_CENTRO   <   X_FINAL\n",
    "    #     Y_CENTRO  <   Y_FINAL\n",
    "    puntos = []\n",
    "    puntos.append([177.104,74.7824])\n",
    "    puntos.append([191.175,50.248])\n",
    "    puntos.append([187.206,64.2741])\n",
    "\n",
    "    nuevoSketch.crearArcoTresPuntos( [177.104,74.7824],[191.175,50.248],[187.206,64.2741])\n",
    "\n",
    "    #     Y_CENTRO  >   Y_FINAL\n",
    "    puntos = []\n",
    "    puntos.append([200.292,88.1126])\n",
    "    puntos.append([220.712,57.2334])\n",
    "    puntos.append([221.241,72.2737])\n",
    "\n",
    "    nuevoSketch.crearArcoTresPuntos( [200.292,88.1126],[220.712,57.2334],[221.241,72.2737])\n",
    "\n",
    "#X_CENTRO   >   X_FINAL\n",
    "    #     Y_CENTRO  <   Y_FINAL\n",
    "    puntos = []\n",
    "    puntos.append([32.5972,11.8399])\n",
    "    puntos.append([31.5169,8.33118])\n",
    "    puntos.append([37.2923,8.53185])\n",
    "\n",
    "    nuevoSketch.crearArcoTresPuntos( [32.5972,11.8399],[31.5169,8.33118],[37.2923,8.53185])\n",
    "\n",
    "    #     Y_CENTRO  >   Y_FINAL\n",
    "    puntos = []\n",
    "    puntos.append([10,10])\n",
    "    puntos.append([12.5,7.5])\n",
    "    puntos.append([11,14])\n",
    "\n",
    "    nuevoSketch.crearArcoTresPuntos( [10,10],[12.5,7.5],[11,14])"
   ]
  },
  {
   "source": [
    "# INTRODUCCION AL MODELADO 3D\n",
    "## PRIMEROS METODOS DE EXTRUSION\n",
    "1. ### ExtrusionAditiva \n",
    "2. ### ExtrusionDeVaciado \n",
    "3. ### RevolucionAditiva \n",
    "\n",
    "En esta actualizacion se han corregido muchos errores de sintaxis en la forma de manejar los erroes y de nombres de variables repetidos en ciclos anidados, **pero lo mas importante es la inclusión de nuevos metodos que ayudan a pasar al mundo 3D los croquis que hemos hecho hasta ahora**\n",
    "\n",
    "Estos metodos pueden ser usados de diferentes formas pero la mas habitual con seguridad será llamarlo desde el objeto de sketch en el que hayamos creado la geometria:\n",
    "\n",
    "#### Ejemplos de cada metodo:\n",
    "Teniendo un sketch para cada ejemplo del tipo:\n",
    "\n",
    "`s = doc.nuevoSketch(\"sketch\", cuerpo, plano)`\n",
    "\n",
    "1. ### ExtrusionAditiva\n",
    "\n",
    "    `puntos = []`\n",
    "\n",
    "    `puntos.append([29.739,8.8786])`\n",
    "\n",
    "    `puntos.append([29.739,71.7241])`\n",
    "\n",
    "    `puntos.append([117.794,71.7241])`\n",
    "\n",
    "    `puntos.append([136.967,52.5509, 19.17, False])`\n",
    "\n",
    "    `puntos.append([136.967,8.8786])`\n",
    "\n",
    "    `puntos.append([29.739,8.8786])`\n",
    "\n",
    "    `s.crearPolilinea(puntos)`\n",
    "\n",
    "    `s.extrusionAditiva(\"Test\", 50, planoMedio = 1)`\n",
    "\n",
    "2. ### ExtrusionDeVaciado\n",
    "\n",
    "    `s.crearPoligono(10,[50,50], 7)`\n",
    "\n",
    "    `s.extrusionDeVaciado(\"Test02\", 50, planoMedio = 1)`\n",
    "\n",
    "3. ### RevolucionAditiva\n",
    "\n",
    "    `s.crearLinea([152.934,38.4578], [102.066,1.54221])`\n",
    "\n",
    "    `s.crearArcoTresPuntos([152.934,38.4578], [102.066,1.54221], [148.132202,-3.356926])`\n",
    "\n",
    "    `s.revolucionAditiva()`\n",
    "\n",
    "### Todos estos ejemplos juntos darian como resultado la siguiente forma:\n",
    "\n",
    "![EjemploExtrusiones](./img/ejemploExtrusiones01.png \"Ejemplo de Extrusiones\")\n",
    "\n"
   ],
   "cell_type": "markdown",
   "metadata": {}
  },
  {
   "cell_type": "code",
   "execution_count": null,
   "metadata": {},
   "outputs": [],
   "source": []
  }
 ]
}