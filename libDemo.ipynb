{
 "metadata": {
  "language_info": {
   "codemirror_mode": {
    "name": "ipython",
    "version": 3
   },
   "file_extension": ".py",
   "mimetype": "text/x-python",
   "name": "python",
   "nbconvert_exporter": "python",
   "pygments_lexer": "ipython3",
   "version": "3.8.1-final"
  },
  "orig_nbformat": 2,
  "kernelspec": {
   "name": "python381jvsc74a57bd06d27a6007783ac2d9440cb1338d2099af98318b606e11ad3a9cd87de647f8852",
   "display_name": "Python 3.8.1 64-bit"
  }
 },
 "nbformat": 4,
 "nbformat_minor": 2,
 "cells": [
  {
   "cell_type": "code",
   "execution_count": 1,
   "metadata": {},
   "outputs": [],
   "source": [
    "FREECADPATH = 'C:/Users/Slashito/Documents/FreeCAD_0.19.24219_Win-LPv12.4.3/bin'\n",
    "\n",
    "import sys\n",
    "sys.path.append(FREECADPATH)\n",
    "\n",
    "# Macro Begin: C:\\Users\\Slashito\\AppData\\Roaming\\FreeCAD\\Macro\n",
    "import FreeCAD as App\n",
    "import FreeCAD, Sketcher\n",
    "\n",
    "import FabCAD #Custom Library\n",
    "\n",
    "nameProject = \"FirstSteps\"\n",
    "namePart = \"Pieza01\"\n",
    "nameBody = \"Cuerpo\"\n",
    "\n",
    "# Crear un nuevo documento en blanco\n",
    "doc = FabCAD.nuevoDocumento(nameProject)\n",
    "doc.nuevaPieza(namePart).nuevoCuerpo(nameBody).crearPlano(\"Planta\").crearPlano(\"Alzado\", soporte=\"XZ_Plane\", cuerpo = nameBody).crearPlano(\"Vista_Lateral\", \"YZ_Plane\", doc.cuerpos[nameBody])\n",
    "nuevoSketch = doc.nuevoSketch(\"sketch\", doc.cuerpos[nameBody], doc.planos[\"Planta\"])\n"
   ]
  },
  {
   "cell_type": "code",
   "execution_count": 2,
   "metadata": {},
   "outputs": [
    {
     "output_type": "stream",
     "name": "stdout",
     "text": [
      "Planta\nAlzado\nVista_Lateral\n"
     ]
    }
   ],
   "source": [
    "for llave, item in doc.planos.items(): print(f\"{llave}\")"
   ]
  },
  {
   "cell_type": "code",
   "execution_count": 4,
   "metadata": {},
   "outputs": [],
   "source": [
    "nuevoSketch = doc.nuevoSketch(\"sketch\", doc.cuerpos[nameBody], doc.planos[\"Planta\"])"
   ]
  },
  {
   "cell_type": "code",
   "execution_count": 5,
   "metadata": {},
   "outputs": [
    {
     "output_type": "stream",
     "name": "stdout",
     "text": [
      "1\n6\n"
     ]
    }
   ],
   "source": [
    "nuevoSketch.crearCirculo([150, 50], 15)\n",
    "\n",
    "print(nuevoSketch.contGeometria)\n",
    "\n",
    "puntos = []\n",
    "\n",
    "puntos.append([47,40])\n",
    "puntos.append([54,55])\n",
    "puntos.append([64,33])\n",
    "puntos.append([69,48])\n",
    "puntos.append([74,38])\n",
    "puntos.append([83,60])\n",
    "\n",
    "nuevoSketch.crearPolilinea(puntos)\n",
    "\n",
    "print(nuevoSketch.contGeometria)"
   ]
  },
  {
   "cell_type": "code",
   "execution_count": 6,
   "metadata": {},
   "outputs": [
    {
     "output_type": "execute_result",
     "data": {
      "text/plain": [
       "13"
      ]
     },
     "metadata": {},
     "execution_count": 6
    }
   ],
   "source": [
    "sumaX = 0\n",
    "longitudH = 20\n",
    "longitudLinea = 10\n",
    "\n",
    "#Note the use of FreeCAD original library inside the custom library wrap inside doc.base variable \n",
    "for linea in range(3):\n",
    "\tnuevoSketch.crearLinea( [ (2 + sumaX) , 2] , [(12 + sumaX), 12] )\n",
    "\tdoc.base.getObject(\"sketch\").addConstraint(Sketcher.Constraint('Distance', linea, longitudLinea)) \n",
    "\n",
    "\tif linea > 0:\n",
    "\t\tdoc.base.getObject(\"sketch\").addConstraint(Sketcher.Constraint('Parallel',  linea -1, linea)) \n",
    "\t\tdoc.base.getObject(\"sketch\").addConstraint(Sketcher.Constraint('Horizontal', linea - 1, 1, linea, 1)) \t\t\n",
    "\t\tdoc.base.getObject(\"sketch\").addConstraint(Sketcher.Constraint('DistanceX', linea - 1, 1, linea, 1, App.Units.Quantity('{} mm'.format( longitudH )))) \n",
    "\n",
    "\tsumaX =sumaX + 20\n",
    "\tlongitudLinea += 10\n",
    "\n",
    "doc.base.getObject(\"sketch\").addConstraint(Sketcher.Constraint('Angle',0,1,-1,2, App.Units.Quantity('135.000000 deg'))) \n"
   ]
  },
  {
   "source": [
    "# Crear ranuras\n",
    "## Para crear ranuras el metodo interno de la libreria FabCAD hace lo siguiente:\n",
    "\n",
    "> Primero que se han recibido los dos puntos de inicio y fin de la ranura se calcula su pendiente, esto con la finalidad de obtener los angulos de inicio y fin de los arcos, una vez que se obtiene esta pendiente se le agregan 90 grados para que los arcos sean perpendiculares a la linea recta entre los dos puntos y se colocan los dos puntos de inicio y fin de cada arco, por ultimo segun el radio indicado se coloca otro punto colineal a la linea recta entre los dos puntos y con la longitud del radio especificado, luego estos puntos se bloquean para que queden en la posicion indicada y se dibuja toda la geometria a la que posteriormente se le dará restricciones de posicion\n",
    "\n",
    "## Ejemplo:\n",
    "### Se quiere dibujar una ranura entre los puntos [2,1] y [8,5] con un radio de 2mm\n",
    "\n",
    "> Lo primero que hace el metodo es calcular m y luego los angulos:\n",
    "\n",
    "`m = (puntoFinal[1] - puntoInicial[1]) / (puntoFinal[0] - puntoInicial[0])`\n",
    "`angulos = [m+(math.pi/2), m+(math.pi/2)+math.pi]`\n",
    "\n",
    "> Con esto listo solo se dibujan los dos arcos y las dos lineas, posteriormente se les agrega las restricciones\n",
    "\n",
    "`conList = []`\n",
    "\n",
    "        conList.append(Sketcher.Constraint('Equal',contGeometria,contGeometria+1))\n",
    "        conList.append(Sketcher.Constraint('Radius',contGeometria, radio))\n",
    "        conList.append(Sketcher.Constraint('Tangent',contGeometria,1,contGeometria+2,1))\n",
    "        conList.append(Sketcher.Constraint('Tangent',contGeometria,2,contGeometria+3,1))\n",
    "        conList.append(Sketcher.Constraint('Tangent',contGeometria+1,1,contGeometria+3,2))\n",
    "        conList.append(Sketcher.Constraint('Tangent',contGeometria+1,2,contGeometria+2,2))\n",
    "\n"
   ],
   "cell_type": "markdown",
   "metadata": {}
  },
  {
   "cell_type": "code",
   "execution_count": 17,
   "metadata": {},
   "outputs": [
    {
     "output_type": "stream",
     "name": "stdout",
     "text": [
      "PuntoUno: 2.237462993461563, PuntoDos: 5.379055647051356\n"
     ]
    }
   ],
   "source": [
    "nuevoSketch.crearRanura([2,1], [8,5], 2)"
   ]
  },
  {
   "source": [
    "# Matriz Lineal\n",
    "## Para utilizar la funcion de matriz lineal se debe seguir la siguiente estructura:\n",
    "\n",
    "`s = doc.nuevoSketch(\"sketch\", cuerpo, plano)`\n",
    "\n",
    "`s.matrizLineal(elementos, colxfil, distancia, direccion = 0, pivote = None, clonar = False, acotar = False)`\n",
    "\n",
    "> Como se puede observar es una funcion que puede recibir muchos parametros, sin embargo, no siempre se tienen que usar todos, como se puede observar tambien muchos de los parametros ya estan rellenos con un valor predeterminado con los valores que mas usualmente se usan, por ejemplo la direccion (0 = Horizontal), el punto pivote (None quiere decir que se utiliza el primer punto del primer elemento) y lo mismo con clonar y acotar, por lo que los argumentos minimos serian:\n",
    "\n",
    "`s.matrizLineal(elementos, colxfil, distancia)`\n",
    "\n",
    "\n",
    "## A continuacion se muestran ejemplos de uso con la geometria de un poligono:\n",
    "`s.crearPoligono(10, [00,200] 5)`\n",
    "![Geometria Base](./img/ejemploMatrizLineal01.png \"Geometria Base\")\n",
    "\n",
    "1. ### Creacion de matriz Horizontal con relaciones de posicion respecto a la geometria original y acotaciones\n",
    "`s.matrizLineal([0,1,2,3,4,5], 5, 25, clonar = True, acotar = True)`\n",
    "![Resultado](./img/ejemploMatrizLineal02.png \"Resultado Ejemplo 01\")\n",
    "\n",
    "2. ### Creacion de matriz con 25 grados de inclinacion\n",
    "`s.matrizLineal([0,1,2,3,4,5], 5, 27.5, 25, clonar = True, acotar = True)`\n",
    "![Resultado](./img/ejemploMatrizLineal03.png \"Resultado Ejemplo 02\")\n",
    "\n",
    "3. ### Creacion de matriz de 3 filas y 3 columnas con 25 grados de inclinación y diferentes distancias entre filas y columnas\n",
    "`s.matrizLineal([0,1,2,3,4,5], [3,3], [27.5, 40], 25, clonar = True, acotar = True)`\n",
    "![Resultado](./img/ejemploMatrizLineal04.png \"Resultado Ejemplo 03\")"
   ],
   "cell_type": "markdown",
   "metadata": {}
  },
  {
   "cell_type": "code",
   "execution_count": null,
   "metadata": {},
   "outputs": [],
   "source": []
  }
 ]
}